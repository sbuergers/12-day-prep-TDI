{
 "cells": [
  {
   "cell_type": "markdown",
   "metadata": {},
   "source": [
    "# Day 7: Pandas Basics\n"
   ]
  },
  {
   "cell_type": "markdown",
   "metadata": {},
   "source": [
    "Action Item: Wes McKinney, who created pandas, has a great video tutorial. Watch it here and follow along by checking out the GitHub of his code."
   ]
  },
  {
   "cell_type": "markdown",
   "metadata": {},
   "source": [
    "Project Milestone: Manipulate some randomly generated data in a pandas dataframe. Make sure you know how to select a specific column, how to set the dataframe index (and, in particular, how to make it a datetime index), and how to select ranges of rows by index."
   ]
  },
  {
   "cell_type": "code",
   "execution_count": 1,
   "metadata": {},
   "outputs": [],
   "source": [
    "import pandas as pd\n",
    "import numpy as np"
   ]
  },
  {
   "cell_type": "markdown",
   "metadata": {},
   "source": [
    "### Generate random data and put in DataFrame"
   ]
  },
  {
   "cell_type": "code",
   "execution_count": 23,
   "metadata": {},
   "outputs": [],
   "source": [
    "data = {\n",
    "    'User':['Tim', 'Bruno', 'Jason', 'Marry', 'Clara', 'Jade'], \n",
    "    'Age':[1, 3, 2, 2, 3, 1],\n",
    "    'Language':['En', 'Sp', 'Pt', 'Dt', 'En', 'Sp'],\n",
    "    'Score':np.random.randint(0,3,(1,6))[0]\n",
    "}\n",
    "df = pd.DataFrame(data)"
   ]
  },
  {
   "cell_type": "code",
   "execution_count": 24,
   "metadata": {},
   "outputs": [
    {
     "name": "stdout",
     "output_type": "stream",
     "text": [
      "    User  Age Language  Score\n",
      "0    Tim    1       En      0\n",
      "1  Bruno    3       Sp      2\n",
      "2  Jason    2       Pt      0\n",
      "3  Marry    2       Dt      0\n",
      "4  Clara    3       En      2\n",
      "5   Jade    1       Sp      2\n"
     ]
    }
   ],
   "source": [
    "print(df)"
   ]
  },
  {
   "cell_type": "markdown",
   "metadata": {},
   "source": [
    "### Select a specific column: "
   ]
  },
  {
   "cell_type": "code",
   "execution_count": 25,
   "metadata": {},
   "outputs": [
    {
     "name": "stdout",
     "output_type": "stream",
     "text": [
      "0    En\n",
      "1    Sp\n",
      "2    Pt\n",
      "3    Dt\n",
      "4    En\n",
      "5    Sp\n",
      "Name: Language, dtype: object\n"
     ]
    }
   ],
   "source": [
    "print(df['Language'])"
   ]
  },
  {
   "cell_type": "markdown",
   "metadata": {},
   "source": [
    "### Set data frame index"
   ]
  },
  {
   "cell_type": "markdown",
   "metadata": {},
   "source": [
    "To make it more interesting let's create another dataframe that tells us the time when a test was given, which we will then later use as the index after joining the two dataframes."
   ]
  },
  {
   "cell_type": "code",
   "execution_count": 33,
   "metadata": {},
   "outputs": [],
   "source": [
    "from randomtimestamp import randomtimestamp\n",
    "\n",
    "# Generate random timestamps\n",
    "timestamp = []\n",
    "for i in range(10):\n",
    "    timestamp.append(randomtimestamp('2019'))\n",
    "\n",
    "# put names and timestamps together in dictionary\n",
    "data = {\n",
    "    'User':['Tim', 'Bruno', 'Jason', 'Marry', 'Clara', 'Jade', 'Laura', 'Claudette', 'Mark', 'Gregor'], \n",
    "    'Time':timestamp\n",
    "}\n",
    "\n",
    "# convert to DF\n",
    "df_time = pd.DataFrame(data)"
   ]
  },
  {
   "cell_type": "code",
   "execution_count": 34,
   "metadata": {},
   "outputs": [
    {
     "data": {
      "text/html": [
       "<div>\n",
       "<style scoped>\n",
       "    .dataframe tbody tr th:only-of-type {\n",
       "        vertical-align: middle;\n",
       "    }\n",
       "\n",
       "    .dataframe tbody tr th {\n",
       "        vertical-align: top;\n",
       "    }\n",
       "\n",
       "    .dataframe thead th {\n",
       "        text-align: right;\n",
       "    }\n",
       "</style>\n",
       "<table border=\"1\" class=\"dataframe\">\n",
       "  <thead>\n",
       "    <tr style=\"text-align: right;\">\n",
       "      <th></th>\n",
       "      <th>User</th>\n",
       "      <th>Time</th>\n",
       "    </tr>\n",
       "  </thead>\n",
       "  <tbody>\n",
       "    <tr>\n",
       "      <th>0</th>\n",
       "      <td>Tim</td>\n",
       "      <td>17-05-2020 16:21:24</td>\n",
       "    </tr>\n",
       "    <tr>\n",
       "      <th>1</th>\n",
       "      <td>Bruno</td>\n",
       "      <td>10-09-2019 12:28:34</td>\n",
       "    </tr>\n",
       "    <tr>\n",
       "      <th>2</th>\n",
       "      <td>Jason</td>\n",
       "      <td>09-06-2019 17:24:49</td>\n",
       "    </tr>\n",
       "    <tr>\n",
       "      <th>3</th>\n",
       "      <td>Marry</td>\n",
       "      <td>22-05-2020 10:30:18</td>\n",
       "    </tr>\n",
       "    <tr>\n",
       "      <th>4</th>\n",
       "      <td>Clara</td>\n",
       "      <td>31-03-2020 04:09:17</td>\n",
       "    </tr>\n",
       "    <tr>\n",
       "      <th>5</th>\n",
       "      <td>Jade</td>\n",
       "      <td>30-07-2019 00:05:56</td>\n",
       "    </tr>\n",
       "    <tr>\n",
       "      <th>6</th>\n",
       "      <td>Laura</td>\n",
       "      <td>28-12-2019 03:54:58</td>\n",
       "    </tr>\n",
       "    <tr>\n",
       "      <th>7</th>\n",
       "      <td>Claudette</td>\n",
       "      <td>15-07-2019 09:18:34</td>\n",
       "    </tr>\n",
       "    <tr>\n",
       "      <th>8</th>\n",
       "      <td>Mark</td>\n",
       "      <td>06-04-2020 09:21:57</td>\n",
       "    </tr>\n",
       "    <tr>\n",
       "      <th>9</th>\n",
       "      <td>Gregor</td>\n",
       "      <td>24-08-2019 14:30:29</td>\n",
       "    </tr>\n",
       "  </tbody>\n",
       "</table>\n",
       "</div>"
      ],
      "text/plain": [
       "        User                 Time\n",
       "0        Tim  17-05-2020 16:21:24\n",
       "1      Bruno  10-09-2019 12:28:34\n",
       "2      Jason  09-06-2019 17:24:49\n",
       "3      Marry  22-05-2020 10:30:18\n",
       "4      Clara  31-03-2020 04:09:17\n",
       "5       Jade  30-07-2019 00:05:56\n",
       "6      Laura  28-12-2019 03:54:58\n",
       "7  Claudette  15-07-2019 09:18:34\n",
       "8       Mark  06-04-2020 09:21:57\n",
       "9     Gregor  24-08-2019 14:30:29"
      ]
     },
     "execution_count": 34,
     "metadata": {},
     "output_type": "execute_result"
    }
   ],
   "source": [
    "df_time"
   ]
  },
  {
   "cell_type": "markdown",
   "metadata": {},
   "source": [
    "Make sure Pandas treats 'Time' as a datetime object"
   ]
  },
  {
   "cell_type": "code",
   "execution_count": 70,
   "metadata": {},
   "outputs": [
    {
     "data": {
      "text/html": [
       "<div>\n",
       "<style scoped>\n",
       "    .dataframe tbody tr th:only-of-type {\n",
       "        vertical-align: middle;\n",
       "    }\n",
       "\n",
       "    .dataframe tbody tr th {\n",
       "        vertical-align: top;\n",
       "    }\n",
       "\n",
       "    .dataframe thead th {\n",
       "        text-align: right;\n",
       "    }\n",
       "</style>\n",
       "<table border=\"1\" class=\"dataframe\">\n",
       "  <thead>\n",
       "    <tr style=\"text-align: right;\">\n",
       "      <th></th>\n",
       "      <th>User</th>\n",
       "      <th>Time</th>\n",
       "    </tr>\n",
       "  </thead>\n",
       "  <tbody>\n",
       "    <tr>\n",
       "      <th>0</th>\n",
       "      <td>Tim</td>\n",
       "      <td>2020-05-17 16:21:24</td>\n",
       "    </tr>\n",
       "    <tr>\n",
       "      <th>1</th>\n",
       "      <td>Bruno</td>\n",
       "      <td>2019-10-09 12:28:34</td>\n",
       "    </tr>\n",
       "    <tr>\n",
       "      <th>2</th>\n",
       "      <td>Jason</td>\n",
       "      <td>2019-09-06 17:24:49</td>\n",
       "    </tr>\n",
       "    <tr>\n",
       "      <th>3</th>\n",
       "      <td>Marry</td>\n",
       "      <td>2020-05-22 10:30:18</td>\n",
       "    </tr>\n",
       "    <tr>\n",
       "      <th>4</th>\n",
       "      <td>Clara</td>\n",
       "      <td>2020-03-31 04:09:17</td>\n",
       "    </tr>\n",
       "    <tr>\n",
       "      <th>5</th>\n",
       "      <td>Jade</td>\n",
       "      <td>2019-07-30 00:05:56</td>\n",
       "    </tr>\n",
       "    <tr>\n",
       "      <th>6</th>\n",
       "      <td>Laura</td>\n",
       "      <td>2019-12-28 03:54:58</td>\n",
       "    </tr>\n",
       "    <tr>\n",
       "      <th>7</th>\n",
       "      <td>Claudette</td>\n",
       "      <td>2019-07-15 09:18:34</td>\n",
       "    </tr>\n",
       "    <tr>\n",
       "      <th>8</th>\n",
       "      <td>Mark</td>\n",
       "      <td>2020-06-04 09:21:57</td>\n",
       "    </tr>\n",
       "    <tr>\n",
       "      <th>9</th>\n",
       "      <td>Gregor</td>\n",
       "      <td>2019-08-24 14:30:29</td>\n",
       "    </tr>\n",
       "  </tbody>\n",
       "</table>\n",
       "</div>"
      ],
      "text/plain": [
       "        User                Time\n",
       "0        Tim 2020-05-17 16:21:24\n",
       "1      Bruno 2019-10-09 12:28:34\n",
       "2      Jason 2019-09-06 17:24:49\n",
       "3      Marry 2020-05-22 10:30:18\n",
       "4      Clara 2020-03-31 04:09:17\n",
       "5       Jade 2019-07-30 00:05:56\n",
       "6      Laura 2019-12-28 03:54:58\n",
       "7  Claudette 2019-07-15 09:18:34\n",
       "8       Mark 2020-06-04 09:21:57\n",
       "9     Gregor 2019-08-24 14:30:29"
      ]
     },
     "execution_count": 70,
     "metadata": {},
     "output_type": "execute_result"
    }
   ],
   "source": [
    "df_time['Time'] = pd.to_datetime(df_time['Time'], unit='s')\n",
    "df_time"
   ]
  },
  {
   "cell_type": "code",
   "execution_count": 71,
   "metadata": {},
   "outputs": [
    {
     "name": "stdout",
     "output_type": "stream",
     "text": [
      "<class 'pandas.core.frame.DataFrame'>\n",
      "RangeIndex: 10 entries, 0 to 9\n",
      "Data columns (total 2 columns):\n",
      " #   Column  Non-Null Count  Dtype         \n",
      "---  ------  --------------  -----         \n",
      " 0   User    10 non-null     object        \n",
      " 1   Time    10 non-null     datetime64[ns]\n",
      "dtypes: datetime64[ns](1), object(1)\n",
      "memory usage: 288.0+ bytes\n"
     ]
    }
   ],
   "source": [
    "df_time.info()"
   ]
  },
  {
   "cell_type": "markdown",
   "metadata": {},
   "source": [
    "We now have 4 additional names, which are not in the original data frame. If we want to keep these when joining the dataframes together we could do an outer join, which would result in NaNs for the missing cells:"
   ]
  },
  {
   "cell_type": "code",
   "execution_count": 72,
   "metadata": {},
   "outputs": [
    {
     "data": {
      "text/html": [
       "<div>\n",
       "<style scoped>\n",
       "    .dataframe tbody tr th:only-of-type {\n",
       "        vertical-align: middle;\n",
       "    }\n",
       "\n",
       "    .dataframe tbody tr th {\n",
       "        vertical-align: top;\n",
       "    }\n",
       "\n",
       "    .dataframe thead th {\n",
       "        text-align: right;\n",
       "    }\n",
       "</style>\n",
       "<table border=\"1\" class=\"dataframe\">\n",
       "  <thead>\n",
       "    <tr style=\"text-align: right;\">\n",
       "      <th></th>\n",
       "      <th>User</th>\n",
       "      <th>Age</th>\n",
       "      <th>Language</th>\n",
       "      <th>Score</th>\n",
       "      <th>Time</th>\n",
       "    </tr>\n",
       "  </thead>\n",
       "  <tbody>\n",
       "    <tr>\n",
       "      <th>0</th>\n",
       "      <td>Tim</td>\n",
       "      <td>1.0</td>\n",
       "      <td>En</td>\n",
       "      <td>0.0</td>\n",
       "      <td>2020-05-17 16:21:24</td>\n",
       "    </tr>\n",
       "    <tr>\n",
       "      <th>1</th>\n",
       "      <td>Bruno</td>\n",
       "      <td>3.0</td>\n",
       "      <td>Sp</td>\n",
       "      <td>2.0</td>\n",
       "      <td>2019-10-09 12:28:34</td>\n",
       "    </tr>\n",
       "    <tr>\n",
       "      <th>2</th>\n",
       "      <td>Jason</td>\n",
       "      <td>2.0</td>\n",
       "      <td>Pt</td>\n",
       "      <td>0.0</td>\n",
       "      <td>2019-09-06 17:24:49</td>\n",
       "    </tr>\n",
       "    <tr>\n",
       "      <th>3</th>\n",
       "      <td>Marry</td>\n",
       "      <td>2.0</td>\n",
       "      <td>Dt</td>\n",
       "      <td>0.0</td>\n",
       "      <td>2020-05-22 10:30:18</td>\n",
       "    </tr>\n",
       "    <tr>\n",
       "      <th>4</th>\n",
       "      <td>Clara</td>\n",
       "      <td>3.0</td>\n",
       "      <td>En</td>\n",
       "      <td>2.0</td>\n",
       "      <td>2020-03-31 04:09:17</td>\n",
       "    </tr>\n",
       "    <tr>\n",
       "      <th>5</th>\n",
       "      <td>Jade</td>\n",
       "      <td>1.0</td>\n",
       "      <td>Sp</td>\n",
       "      <td>2.0</td>\n",
       "      <td>2019-07-30 00:05:56</td>\n",
       "    </tr>\n",
       "    <tr>\n",
       "      <th>6</th>\n",
       "      <td>Laura</td>\n",
       "      <td>NaN</td>\n",
       "      <td>NaN</td>\n",
       "      <td>NaN</td>\n",
       "      <td>2019-12-28 03:54:58</td>\n",
       "    </tr>\n",
       "    <tr>\n",
       "      <th>7</th>\n",
       "      <td>Claudette</td>\n",
       "      <td>NaN</td>\n",
       "      <td>NaN</td>\n",
       "      <td>NaN</td>\n",
       "      <td>2019-07-15 09:18:34</td>\n",
       "    </tr>\n",
       "    <tr>\n",
       "      <th>8</th>\n",
       "      <td>Mark</td>\n",
       "      <td>NaN</td>\n",
       "      <td>NaN</td>\n",
       "      <td>NaN</td>\n",
       "      <td>2020-06-04 09:21:57</td>\n",
       "    </tr>\n",
       "    <tr>\n",
       "      <th>9</th>\n",
       "      <td>Gregor</td>\n",
       "      <td>NaN</td>\n",
       "      <td>NaN</td>\n",
       "      <td>NaN</td>\n",
       "      <td>2019-08-24 14:30:29</td>\n",
       "    </tr>\n",
       "  </tbody>\n",
       "</table>\n",
       "</div>"
      ],
      "text/plain": [
       "        User  Age Language  Score                Time\n",
       "0        Tim  1.0       En    0.0 2020-05-17 16:21:24\n",
       "1      Bruno  3.0       Sp    2.0 2019-10-09 12:28:34\n",
       "2      Jason  2.0       Pt    0.0 2019-09-06 17:24:49\n",
       "3      Marry  2.0       Dt    0.0 2020-05-22 10:30:18\n",
       "4      Clara  3.0       En    2.0 2020-03-31 04:09:17\n",
       "5       Jade  1.0       Sp    2.0 2019-07-30 00:05:56\n",
       "6      Laura  NaN      NaN    NaN 2019-12-28 03:54:58\n",
       "7  Claudette  NaN      NaN    NaN 2019-07-15 09:18:34\n",
       "8       Mark  NaN      NaN    NaN 2020-06-04 09:21:57\n",
       "9     Gregor  NaN      NaN    NaN 2019-08-24 14:30:29"
      ]
     },
     "execution_count": 72,
     "metadata": {},
     "output_type": "execute_result"
    }
   ],
   "source": [
    "df_outer = pd.merge(df, df_time, how='outer')\n",
    "df_outer"
   ]
  },
  {
   "cell_type": "markdown",
   "metadata": {},
   "source": [
    "Alternatively we can skip the rows in the second data frame for which no scores exist. To do so we use inner join."
   ]
  },
  {
   "cell_type": "code",
   "execution_count": 73,
   "metadata": {},
   "outputs": [
    {
     "data": {
      "text/html": [
       "<div>\n",
       "<style scoped>\n",
       "    .dataframe tbody tr th:only-of-type {\n",
       "        vertical-align: middle;\n",
       "    }\n",
       "\n",
       "    .dataframe tbody tr th {\n",
       "        vertical-align: top;\n",
       "    }\n",
       "\n",
       "    .dataframe thead th {\n",
       "        text-align: right;\n",
       "    }\n",
       "</style>\n",
       "<table border=\"1\" class=\"dataframe\">\n",
       "  <thead>\n",
       "    <tr style=\"text-align: right;\">\n",
       "      <th></th>\n",
       "      <th>User</th>\n",
       "      <th>Age</th>\n",
       "      <th>Language</th>\n",
       "      <th>Score</th>\n",
       "      <th>Time</th>\n",
       "    </tr>\n",
       "  </thead>\n",
       "  <tbody>\n",
       "    <tr>\n",
       "      <th>0</th>\n",
       "      <td>Tim</td>\n",
       "      <td>1</td>\n",
       "      <td>En</td>\n",
       "      <td>0</td>\n",
       "      <td>2020-05-17 16:21:24</td>\n",
       "    </tr>\n",
       "    <tr>\n",
       "      <th>1</th>\n",
       "      <td>Bruno</td>\n",
       "      <td>3</td>\n",
       "      <td>Sp</td>\n",
       "      <td>2</td>\n",
       "      <td>2019-10-09 12:28:34</td>\n",
       "    </tr>\n",
       "    <tr>\n",
       "      <th>2</th>\n",
       "      <td>Jason</td>\n",
       "      <td>2</td>\n",
       "      <td>Pt</td>\n",
       "      <td>0</td>\n",
       "      <td>2019-09-06 17:24:49</td>\n",
       "    </tr>\n",
       "    <tr>\n",
       "      <th>3</th>\n",
       "      <td>Marry</td>\n",
       "      <td>2</td>\n",
       "      <td>Dt</td>\n",
       "      <td>0</td>\n",
       "      <td>2020-05-22 10:30:18</td>\n",
       "    </tr>\n",
       "    <tr>\n",
       "      <th>4</th>\n",
       "      <td>Clara</td>\n",
       "      <td>3</td>\n",
       "      <td>En</td>\n",
       "      <td>2</td>\n",
       "      <td>2020-03-31 04:09:17</td>\n",
       "    </tr>\n",
       "    <tr>\n",
       "      <th>5</th>\n",
       "      <td>Jade</td>\n",
       "      <td>1</td>\n",
       "      <td>Sp</td>\n",
       "      <td>2</td>\n",
       "      <td>2019-07-30 00:05:56</td>\n",
       "    </tr>\n",
       "  </tbody>\n",
       "</table>\n",
       "</div>"
      ],
      "text/plain": [
       "    User  Age Language  Score                Time\n",
       "0    Tim    1       En      0 2020-05-17 16:21:24\n",
       "1  Bruno    3       Sp      2 2019-10-09 12:28:34\n",
       "2  Jason    2       Pt      0 2019-09-06 17:24:49\n",
       "3  Marry    2       Dt      0 2020-05-22 10:30:18\n",
       "4  Clara    3       En      2 2020-03-31 04:09:17\n",
       "5   Jade    1       Sp      2 2019-07-30 00:05:56"
      ]
     },
     "execution_count": 73,
     "metadata": {},
     "output_type": "execute_result"
    }
   ],
   "source": [
    "df_inner = pd.merge(df, df_time, how='inner')\n",
    "df_inner"
   ]
  },
  {
   "cell_type": "markdown",
   "metadata": {},
   "source": [
    "It might be sensible to set the index as the time when the data was collected"
   ]
  },
  {
   "cell_type": "code",
   "execution_count": 74,
   "metadata": {},
   "outputs": [
    {
     "data": {
      "text/html": [
       "<div>\n",
       "<style scoped>\n",
       "    .dataframe tbody tr th:only-of-type {\n",
       "        vertical-align: middle;\n",
       "    }\n",
       "\n",
       "    .dataframe tbody tr th {\n",
       "        vertical-align: top;\n",
       "    }\n",
       "\n",
       "    .dataframe thead th {\n",
       "        text-align: right;\n",
       "    }\n",
       "</style>\n",
       "<table border=\"1\" class=\"dataframe\">\n",
       "  <thead>\n",
       "    <tr style=\"text-align: right;\">\n",
       "      <th></th>\n",
       "      <th>User</th>\n",
       "      <th>Age</th>\n",
       "      <th>Language</th>\n",
       "      <th>Score</th>\n",
       "    </tr>\n",
       "    <tr>\n",
       "      <th>Time</th>\n",
       "      <th></th>\n",
       "      <th></th>\n",
       "      <th></th>\n",
       "      <th></th>\n",
       "    </tr>\n",
       "  </thead>\n",
       "  <tbody>\n",
       "    <tr>\n",
       "      <th>2020-05-17 16:21:24</th>\n",
       "      <td>Tim</td>\n",
       "      <td>1</td>\n",
       "      <td>En</td>\n",
       "      <td>0</td>\n",
       "    </tr>\n",
       "    <tr>\n",
       "      <th>2019-10-09 12:28:34</th>\n",
       "      <td>Bruno</td>\n",
       "      <td>3</td>\n",
       "      <td>Sp</td>\n",
       "      <td>2</td>\n",
       "    </tr>\n",
       "    <tr>\n",
       "      <th>2019-09-06 17:24:49</th>\n",
       "      <td>Jason</td>\n",
       "      <td>2</td>\n",
       "      <td>Pt</td>\n",
       "      <td>0</td>\n",
       "    </tr>\n",
       "    <tr>\n",
       "      <th>2020-05-22 10:30:18</th>\n",
       "      <td>Marry</td>\n",
       "      <td>2</td>\n",
       "      <td>Dt</td>\n",
       "      <td>0</td>\n",
       "    </tr>\n",
       "    <tr>\n",
       "      <th>2020-03-31 04:09:17</th>\n",
       "      <td>Clara</td>\n",
       "      <td>3</td>\n",
       "      <td>En</td>\n",
       "      <td>2</td>\n",
       "    </tr>\n",
       "    <tr>\n",
       "      <th>2019-07-30 00:05:56</th>\n",
       "      <td>Jade</td>\n",
       "      <td>1</td>\n",
       "      <td>Sp</td>\n",
       "      <td>2</td>\n",
       "    </tr>\n",
       "  </tbody>\n",
       "</table>\n",
       "</div>"
      ],
      "text/plain": [
       "                      User  Age Language  Score\n",
       "Time                                           \n",
       "2020-05-17 16:21:24    Tim    1       En      0\n",
       "2019-10-09 12:28:34  Bruno    3       Sp      2\n",
       "2019-09-06 17:24:49  Jason    2       Pt      0\n",
       "2020-05-22 10:30:18  Marry    2       Dt      0\n",
       "2020-03-31 04:09:17  Clara    3       En      2\n",
       "2019-07-30 00:05:56   Jade    1       Sp      2"
      ]
     },
     "execution_count": 74,
     "metadata": {},
     "output_type": "execute_result"
    }
   ],
   "source": [
    "df_inner.set_index('Time', inplace=True)\n",
    "df_inner"
   ]
  },
  {
   "cell_type": "code",
   "execution_count": 75,
   "metadata": {},
   "outputs": [
    {
     "name": "stdout",
     "output_type": "stream",
     "text": [
      "<class 'pandas.core.frame.DataFrame'>\n",
      "DatetimeIndex: 6 entries, 2020-05-17 16:21:24 to 2019-07-30 00:05:56\n",
      "Data columns (total 4 columns):\n",
      " #   Column    Non-Null Count  Dtype \n",
      "---  ------    --------------  ----- \n",
      " 0   User      6 non-null      object\n",
      " 1   Age       6 non-null      int64 \n",
      " 2   Language  6 non-null      object\n",
      " 3   Score     6 non-null      int32 \n",
      "dtypes: int32(1), int64(1), object(2)\n",
      "memory usage: 216.0+ bytes\n"
     ]
    }
   ],
   "source": [
    "df_inner.info()"
   ]
  },
  {
   "cell_type": "code",
   "execution_count": 76,
   "metadata": {},
   "outputs": [
    {
     "data": {
      "text/plain": [
       "DatetimeIndex(['2020-05-17 16:21:24', '2019-10-09 12:28:34',\n",
       "               '2019-09-06 17:24:49', '2020-05-22 10:30:18',\n",
       "               '2020-03-31 04:09:17', '2019-07-30 00:05:56'],\n",
       "              dtype='datetime64[ns]', name='Time', freq=None)"
      ]
     },
     "execution_count": 76,
     "metadata": {},
     "output_type": "execute_result"
    }
   ],
   "source": [
    "df_inner.index"
   ]
  },
  {
   "cell_type": "markdown",
   "metadata": {},
   "source": [
    "Select only entries from 2019"
   ]
  },
  {
   "cell_type": "code",
   "execution_count": 78,
   "metadata": {},
   "outputs": [
    {
     "data": {
      "text/html": [
       "<div>\n",
       "<style scoped>\n",
       "    .dataframe tbody tr th:only-of-type {\n",
       "        vertical-align: middle;\n",
       "    }\n",
       "\n",
       "    .dataframe tbody tr th {\n",
       "        vertical-align: top;\n",
       "    }\n",
       "\n",
       "    .dataframe thead th {\n",
       "        text-align: right;\n",
       "    }\n",
       "</style>\n",
       "<table border=\"1\" class=\"dataframe\">\n",
       "  <thead>\n",
       "    <tr style=\"text-align: right;\">\n",
       "      <th></th>\n",
       "      <th>User</th>\n",
       "      <th>Age</th>\n",
       "      <th>Language</th>\n",
       "      <th>Score</th>\n",
       "    </tr>\n",
       "    <tr>\n",
       "      <th>Time</th>\n",
       "      <th></th>\n",
       "      <th></th>\n",
       "      <th></th>\n",
       "      <th></th>\n",
       "    </tr>\n",
       "  </thead>\n",
       "  <tbody>\n",
       "    <tr>\n",
       "      <th>2019-10-09 12:28:34</th>\n",
       "      <td>Bruno</td>\n",
       "      <td>3</td>\n",
       "      <td>Sp</td>\n",
       "      <td>2</td>\n",
       "    </tr>\n",
       "    <tr>\n",
       "      <th>2019-09-06 17:24:49</th>\n",
       "      <td>Jason</td>\n",
       "      <td>2</td>\n",
       "      <td>Pt</td>\n",
       "      <td>0</td>\n",
       "    </tr>\n",
       "    <tr>\n",
       "      <th>2019-07-30 00:05:56</th>\n",
       "      <td>Jade</td>\n",
       "      <td>1</td>\n",
       "      <td>Sp</td>\n",
       "      <td>2</td>\n",
       "    </tr>\n",
       "  </tbody>\n",
       "</table>\n",
       "</div>"
      ],
      "text/plain": [
       "                      User  Age Language  Score\n",
       "Time                                           \n",
       "2019-10-09 12:28:34  Bruno    3       Sp      2\n",
       "2019-09-06 17:24:49  Jason    2       Pt      0\n",
       "2019-07-30 00:05:56   Jade    1       Sp      2"
      ]
     },
     "execution_count": 78,
     "metadata": {},
     "output_type": "execute_result"
    }
   ],
   "source": [
    "df_inner.loc['2019']"
   ]
  },
  {
   "cell_type": "markdown",
   "metadata": {},
   "source": [
    "Select only entries taken after September 2019 and before October 2020:"
   ]
  },
  {
   "cell_type": "code",
   "execution_count": 80,
   "metadata": {
    "scrolled": true
   },
   "outputs": [
    {
     "data": {
      "text/html": [
       "<div>\n",
       "<style scoped>\n",
       "    .dataframe tbody tr th:only-of-type {\n",
       "        vertical-align: middle;\n",
       "    }\n",
       "\n",
       "    .dataframe tbody tr th {\n",
       "        vertical-align: top;\n",
       "    }\n",
       "\n",
       "    .dataframe thead th {\n",
       "        text-align: right;\n",
       "    }\n",
       "</style>\n",
       "<table border=\"1\" class=\"dataframe\">\n",
       "  <thead>\n",
       "    <tr style=\"text-align: right;\">\n",
       "      <th></th>\n",
       "      <th>User</th>\n",
       "      <th>Age</th>\n",
       "      <th>Language</th>\n",
       "      <th>Score</th>\n",
       "    </tr>\n",
       "    <tr>\n",
       "      <th>Time</th>\n",
       "      <th></th>\n",
       "      <th></th>\n",
       "      <th></th>\n",
       "      <th></th>\n",
       "    </tr>\n",
       "  </thead>\n",
       "  <tbody>\n",
       "    <tr>\n",
       "      <th>2020-05-17 16:21:24</th>\n",
       "      <td>Tim</td>\n",
       "      <td>1</td>\n",
       "      <td>En</td>\n",
       "      <td>0</td>\n",
       "    </tr>\n",
       "    <tr>\n",
       "      <th>2019-10-09 12:28:34</th>\n",
       "      <td>Bruno</td>\n",
       "      <td>3</td>\n",
       "      <td>Sp</td>\n",
       "      <td>2</td>\n",
       "    </tr>\n",
       "    <tr>\n",
       "      <th>2020-05-22 10:30:18</th>\n",
       "      <td>Marry</td>\n",
       "      <td>2</td>\n",
       "      <td>Dt</td>\n",
       "      <td>0</td>\n",
       "    </tr>\n",
       "    <tr>\n",
       "      <th>2020-03-31 04:09:17</th>\n",
       "      <td>Clara</td>\n",
       "      <td>3</td>\n",
       "      <td>En</td>\n",
       "      <td>2</td>\n",
       "    </tr>\n",
       "  </tbody>\n",
       "</table>\n",
       "</div>"
      ],
      "text/plain": [
       "                      User  Age Language  Score\n",
       "Time                                           \n",
       "2020-05-17 16:21:24    Tim    1       En      0\n",
       "2019-10-09 12:28:34  Bruno    3       Sp      2\n",
       "2020-05-22 10:30:18  Marry    2       Dt      0\n",
       "2020-03-31 04:09:17  Clara    3       En      2"
      ]
     },
     "execution_count": 80,
     "metadata": {},
     "output_type": "execute_result"
    }
   ],
   "source": [
    "df_inner.loc['2019-10':'2020-09']"
   ]
  },
  {
   "cell_type": "markdown",
   "metadata": {},
   "source": [
    "Figure out the average score by Age"
   ]
  },
  {
   "cell_type": "code",
   "execution_count": 83,
   "metadata": {},
   "outputs": [
    {
     "data": {
      "text/plain": [
       "Age\n",
       "1    1\n",
       "2    0\n",
       "3    2\n",
       "Name: Score, dtype: int32"
      ]
     },
     "execution_count": 83,
     "metadata": {},
     "output_type": "execute_result"
    }
   ],
   "source": [
    "df_inner.groupby(by='Age')['Score'].mean()"
   ]
  },
  {
   "cell_type": "markdown",
   "metadata": {},
   "source": [
    "That's it for now."
   ]
  }
 ],
 "metadata": {
  "kernelspec": {
   "display_name": "Python 3",
   "language": "python",
   "name": "python3"
  },
  "language_info": {
   "codemirror_mode": {
    "name": "ipython",
    "version": 3
   },
   "file_extension": ".py",
   "mimetype": "text/x-python",
   "name": "python",
   "nbconvert_exporter": "python",
   "pygments_lexer": "ipython3",
   "version": "3.7.3"
  }
 },
 "nbformat": 4,
 "nbformat_minor": 4
}
